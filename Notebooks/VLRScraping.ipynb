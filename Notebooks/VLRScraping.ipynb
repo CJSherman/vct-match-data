{
 "cells": [
  {
   "cell_type": "markdown",
   "metadata": {},
   "source": [
    "# Add Data to A Database using the VLRScraper\n",
    "\n",
    "This is an example of how to add tournament / match data to a given database using the VLR scraper \n",
    "to obtain information from VLR.gg.\n",
    "\n",
    "First off a session must be created to interact with the database and all the relevant tables must\n",
    "be initiated."
   ]
  },
  {
   "cell_type": "code",
   "execution_count": null,
   "metadata": {},
   "outputs": [],
   "source": [
    "from sqlalchemy import create_engine\n",
    "from sqlalchemy.orm import sessionmaker\n",
    "\n",
    "from vct.functions import create_database\n",
    "\n",
    "database = \"Example\"\n",
    "engine = create_engine(f\"sqlite:///{database}.db\")\n",
    "Session = sessionmaker(bind=engine)\n",
    "session = Session()\n",
    "\n",
    "create_database(database, session)\n"
   ]
  },
  {
   "cell_type": "markdown",
   "metadata": {},
   "source": [
    "Now the scraper is initialised."
   ]
  },
  {
   "cell_type": "code",
   "execution_count": null,
   "metadata": {},
   "outputs": [],
   "source": [
    "from vct.get_data import VLRScrape\n",
    "\n",
    "scraper = VLRScrape(session)"
   ]
  },
  {
   "cell_type": "markdown",
   "metadata": {},
   "source": [
    "Any Tournaments that need to be scanned are added to the ``tournament_urls`` list and then given to the ``add_tournaments`` method."
   ]
  },
  {
   "cell_type": "code",
   "execution_count": null,
   "metadata": {},
   "outputs": [],
   "source": [
    "tournament_urls = []\n",
    "scraper.add_tournaments(tournament_urls)"
   ]
  },
  {
   "cell_type": "markdown",
   "metadata": {},
   "source": [
    "The ``find_match_pages`` method finds the url of each match that was in the given tournament and adds it to the ``match_list``."
   ]
  },
  {
   "cell_type": "code",
   "execution_count": null,
   "metadata": {},
   "outputs": [],
   "source": [
    "scraper.find_match_pages()"
   ]
  },
  {
   "cell_type": "markdown",
   "metadata": {},
   "source": [
    "Any individual Matches that need to be scanned are added to the ``match_urls`` list and then added to the ``match_list`` through the ``add_matches`` method."
   ]
  },
  {
   "cell_type": "code",
   "execution_count": null,
   "metadata": {},
   "outputs": [],
   "source": [
    "match_urls = []\n",
    "scraper.add_matches(match_urls)"
   ]
  },
  {
   "cell_type": "markdown",
   "metadata": {},
   "source": [
    "Finally, all matches in the ``match_list`` are scraped for the match data and added to the given database."
   ]
  },
  {
   "cell_type": "code",
   "execution_count": null,
   "metadata": {},
   "outputs": [],
   "source": [
    "scraper.find_match_data()"
   ]
  }
 ],
 "metadata": {
  "kernelspec": {
   "display_name": "Python 3",
   "language": "python",
   "name": "python3"
  },
  "language_info": {
   "codemirror_mode": {
    "name": "ipython",
    "version": 3
   },
   "file_extension": ".py",
   "mimetype": "text/x-python",
   "name": "python",
   "nbconvert_exporter": "python",
   "pygments_lexer": "ipython3",
   "version": "3.11.6"
  }
 },
 "nbformat": 4,
 "nbformat_minor": 2
}
